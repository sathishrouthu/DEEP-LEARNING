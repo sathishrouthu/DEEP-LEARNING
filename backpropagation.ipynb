{
 "cells": [
  {
   "cell_type": "markdown",
   "metadata": {
    "colab_type": "text",
    "id": "view-in-github"
   },
   "source": [
    "<a href=\"https://colab.research.google.com/github/sathishrouthu/DEEP-LEARNING/blob/main/backpropagation.ipynb\" target=\"_parent\"><img src=\"https://colab.research.google.com/assets/colab-badge.svg\" alt=\"Open In Colab\"/></a>"
   ]
  },
  {
   "cell_type": "code",
   "execution_count": 1,
   "metadata": {
    "id": "h3ZQiMPwLKgZ"
   },
   "outputs": [],
   "source": [
    "import numpy as np\n",
    "import pandas as pd\n",
    "import matplotlib.pyplot as plt"
   ]
  },
  {
   "cell_type": "code",
   "execution_count": 2,
   "metadata": {
    "id": "NU0qFYMbKih5"
   },
   "outputs": [],
   "source": [
    "df = pd.DataFrame([[0,0,0],[0,1,1],[1,0,1],[1,1,0]],columns=['x0','x1','y'])"
   ]
  },
  {
   "cell_type": "code",
   "execution_count": 3,
   "metadata": {
    "colab": {
     "base_uri": "https://localhost:8080/",
     "height": 175
    },
    "id": "-r9Wj2-bLF3h",
    "outputId": "08216a45-c6ec-4364-cd86-139f66630a57"
   },
   "outputs": [
    {
     "data": {
      "text/html": [
       "<div>\n",
       "<style scoped>\n",
       "    .dataframe tbody tr th:only-of-type {\n",
       "        vertical-align: middle;\n",
       "    }\n",
       "\n",
       "    .dataframe tbody tr th {\n",
       "        vertical-align: top;\n",
       "    }\n",
       "\n",
       "    .dataframe thead th {\n",
       "        text-align: right;\n",
       "    }\n",
       "</style>\n",
       "<table border=\"1\" class=\"dataframe\">\n",
       "  <thead>\n",
       "    <tr style=\"text-align: right;\">\n",
       "      <th></th>\n",
       "      <th>x0</th>\n",
       "      <th>x1</th>\n",
       "      <th>y</th>\n",
       "    </tr>\n",
       "  </thead>\n",
       "  <tbody>\n",
       "    <tr>\n",
       "      <th>0</th>\n",
       "      <td>0</td>\n",
       "      <td>0</td>\n",
       "      <td>0</td>\n",
       "    </tr>\n",
       "    <tr>\n",
       "      <th>1</th>\n",
       "      <td>0</td>\n",
       "      <td>1</td>\n",
       "      <td>1</td>\n",
       "    </tr>\n",
       "    <tr>\n",
       "      <th>2</th>\n",
       "      <td>1</td>\n",
       "      <td>0</td>\n",
       "      <td>1</td>\n",
       "    </tr>\n",
       "    <tr>\n",
       "      <th>3</th>\n",
       "      <td>1</td>\n",
       "      <td>1</td>\n",
       "      <td>0</td>\n",
       "    </tr>\n",
       "  </tbody>\n",
       "</table>\n",
       "</div>"
      ],
      "text/plain": [
       "   x0  x1  y\n",
       "0   0   0  0\n",
       "1   0   1  1\n",
       "2   1   0  1\n",
       "3   1   1  0"
      ]
     },
     "execution_count": 3,
     "metadata": {},
     "output_type": "execute_result"
    }
   ],
   "source": [
    "df"
   ]
  },
  {
   "cell_type": "code",
   "execution_count": 4,
   "metadata": {
    "id": "Y_beg1GrTAFd"
   },
   "outputs": [],
   "source": [
    "class NeuralNetwork:\n",
    "  def __init__(self,layers,alpha=0.1):\n",
    "    self.W=[]\n",
    "    self.layers = layers\n",
    "    self.alpha = alpha\n",
    "    self.losses = {}\n",
    "    for i in np.arange(0,len(layers)-2):\n",
    "      w = np.random.randn(layers[i]+1,layers[i+1]+1)\n",
    "      self.W.append(w/np.sqrt(layers[i]))\n",
    "    w = np.random.randn(layers[-2]+1,layers[-1])\n",
    "    self.W.append(w/np.sqrt(layers[-2]))\n",
    "  def __repr__(self):\n",
    "    return \"NeuralNetWork : \"+\"-\".join([str(i) for i in self.layers])\n",
    "\n",
    "  def sigmoid(self,x):\n",
    "    return 1.0/(1+np.exp(-x))\n",
    "\n",
    "  def sigmoid_deriv(self,x):\n",
    "    return x*(1-x)\n",
    "\n",
    "  def fit(self,X,y,epochs=1000,displayUpdate=100):\n",
    "    X = np.c_[X,np.ones((X.shape[0]))]\n",
    "    for epoch in np.arange(0,epochs):\n",
    "      for x,target in zip(X,y):\n",
    "        self.fit_partial(x,target)\n",
    "      if epoch==0 or (epoch+1)%displayUpdate ==0:\n",
    "        loss = self.calculate_loss(X,y)\n",
    "        self.losses[epoch+1] = loss\n",
    "        print(\"[INFO] epoch={}, loss={:.6f}\".format(epoch + 1, loss))\n",
    "\n",
    "  def fit_partial(self,x,y):\n",
    "    A = [np.atleast_2d(x)]\n",
    "    for layer in np.arange(0,len(self.W)):\n",
    "      net = A[layer].dot(self.W[layer])\n",
    "      out = self.sigmoid(net)\n",
    "      A.append(out)\n",
    "    error = A[-1]-y\n",
    "    D =[error* self.sigmoid_deriv(A[-1])]\n",
    "    for layer in np.arange(len(A)-2,0,-1):\n",
    "      delta = D[-1].dot(self.W[layer].T)\n",
    "      delta = delta * self.sigmoid_deriv(A[layer])\n",
    "      D.append(delta)\n",
    "    D = D[::-1]\n",
    "    for layer in range(0,len(self.W)):\n",
    "      self.W[layer]+= -self.alpha*A[layer].T.dot(D[layer])\n",
    "  def predict(self,X,addBias=True):\n",
    "    p = np.atleast_2d(X)\n",
    "    if addBias:\n",
    "      p = np.c_[p, np.ones((p.shape[0]))]\n",
    "\n",
    "    for layer in np.arange(0, len(self.W)):\n",
    "      p = self.sigmoid(np.dot(p, self.W[layer]))\n",
    "    return p\n",
    "  def calculate_loss(self,X,targets):\n",
    "    targets = np.atleast_2d(targets)\n",
    "    predictions = self.predict(X, addBias=False)\n",
    "    loss = 0.5 * np.sum((predictions - targets) ** 2)\n",
    "    return loss\n"
   ]
  },
  {
   "cell_type": "code",
   "execution_count": 7,
   "metadata": {
    "id": "UqQN8Zj3TIEt"
   },
   "outputs": [],
   "source": [
    "X = np.array([[0, 0], [0, 1], [1, 0], [1, 1]])\n",
    "y = np.array([[0], [1], [1], [0]])"
   ]
  },
  {
   "cell_type": "code",
   "execution_count": 32,
   "metadata": {
    "scrolled": true
   },
   "outputs": [
    {
     "name": "stdout",
     "output_type": "stream",
     "text": [
      "[INFO] epoch=1, loss=0.514085\n",
      "[INFO] epoch=100, loss=0.499520\n",
      "[INFO] epoch=200, loss=0.493619\n",
      "[INFO] epoch=300, loss=0.476422\n",
      "[INFO] epoch=400, loss=0.426663\n",
      "[INFO] epoch=500, loss=0.342946\n",
      "[INFO] epoch=600, loss=0.245499\n",
      "[INFO] epoch=700, loss=0.116808\n",
      "[INFO] epoch=800, loss=0.055230\n",
      "[INFO] epoch=900, loss=0.034048\n",
      "[INFO] epoch=1000, loss=0.023941\n",
      "[INFO] epoch=1100, loss=0.018188\n",
      "[INFO] epoch=1200, loss=0.014536\n",
      "[INFO] epoch=1300, loss=0.012036\n",
      "[INFO] epoch=1400, loss=0.010231\n",
      "[INFO] epoch=1500, loss=0.008872\n",
      "[INFO] epoch=1600, loss=0.007815\n",
      "[INFO] epoch=1700, loss=0.006972\n",
      "[INFO] epoch=1800, loss=0.006286\n",
      "[INFO] epoch=1900, loss=0.005716\n",
      "[INFO] epoch=2000, loss=0.005237\n",
      "[INFO] epoch=2100, loss=0.004829\n",
      "[INFO] epoch=2200, loss=0.004477\n",
      "[INFO] epoch=2300, loss=0.004171\n",
      "[INFO] epoch=2400, loss=0.003902\n",
      "[INFO] epoch=2500, loss=0.003665\n",
      "[INFO] epoch=2600, loss=0.003454\n",
      "[INFO] epoch=2700, loss=0.003264\n",
      "[INFO] epoch=2800, loss=0.003094\n",
      "[INFO] epoch=2900, loss=0.002940\n",
      "[INFO] epoch=3000, loss=0.002799\n",
      "[INFO] epoch=3100, loss=0.002672\n",
      "[INFO] epoch=3200, loss=0.002554\n",
      "[INFO] epoch=3300, loss=0.002447\n",
      "[INFO] epoch=3400, loss=0.002347\n",
      "[INFO] epoch=3500, loss=0.002255\n",
      "[INFO] epoch=3600, loss=0.002170\n",
      "[INFO] epoch=3700, loss=0.002091\n",
      "[INFO] epoch=3800, loss=0.002017\n",
      "[INFO] epoch=3900, loss=0.001948\n",
      "[INFO] epoch=4000, loss=0.001883\n",
      "[INFO] epoch=4100, loss=0.001823\n",
      "[INFO] epoch=4200, loss=0.001766\n",
      "[INFO] epoch=4300, loss=0.001712\n",
      "[INFO] epoch=4400, loss=0.001661\n",
      "[INFO] epoch=4500, loss=0.001614\n",
      "[INFO] epoch=4600, loss=0.001568\n",
      "[INFO] epoch=4700, loss=0.001525\n",
      "[INFO] epoch=4800, loss=0.001485\n",
      "[INFO] epoch=4900, loss=0.001446\n",
      "[INFO] epoch=5000, loss=0.001409\n",
      "[INFO] epoch=5100, loss=0.001374\n",
      "[INFO] epoch=5200, loss=0.001341\n",
      "[INFO] epoch=5300, loss=0.001309\n",
      "[INFO] epoch=5400, loss=0.001279\n",
      "[INFO] epoch=5500, loss=0.001250\n",
      "[INFO] epoch=5600, loss=0.001222\n",
      "[INFO] epoch=5700, loss=0.001195\n",
      "[INFO] epoch=5800, loss=0.001170\n",
      "[INFO] epoch=5900, loss=0.001145\n",
      "[INFO] epoch=6000, loss=0.001121\n",
      "[INFO] epoch=6100, loss=0.001099\n",
      "[INFO] epoch=6200, loss=0.001077\n",
      "[INFO] epoch=6300, loss=0.001056\n",
      "[INFO] epoch=6400, loss=0.001036\n",
      "[INFO] epoch=6500, loss=0.001016\n",
      "[INFO] epoch=6600, loss=0.000998\n",
      "[INFO] epoch=6700, loss=0.000979\n",
      "[INFO] epoch=6800, loss=0.000962\n",
      "[INFO] epoch=6900, loss=0.000945\n",
      "[INFO] epoch=7000, loss=0.000929\n",
      "[INFO] epoch=7100, loss=0.000913\n",
      "[INFO] epoch=7200, loss=0.000898\n",
      "[INFO] epoch=7300, loss=0.000883\n",
      "[INFO] epoch=7400, loss=0.000868\n",
      "[INFO] epoch=7500, loss=0.000855\n",
      "[INFO] epoch=7600, loss=0.000841\n",
      "[INFO] epoch=7700, loss=0.000828\n",
      "[INFO] epoch=7800, loss=0.000815\n",
      "[INFO] epoch=7900, loss=0.000803\n",
      "[INFO] epoch=8000, loss=0.000791\n",
      "[INFO] epoch=8100, loss=0.000779\n",
      "[INFO] epoch=8200, loss=0.000768\n",
      "[INFO] epoch=8300, loss=0.000757\n",
      "[INFO] epoch=8400, loss=0.000746\n",
      "[INFO] epoch=8500, loss=0.000736\n",
      "[INFO] epoch=8600, loss=0.000726\n",
      "[INFO] epoch=8700, loss=0.000716\n",
      "[INFO] epoch=8800, loss=0.000706\n",
      "[INFO] epoch=8900, loss=0.000697\n",
      "[INFO] epoch=9000, loss=0.000688\n",
      "[INFO] epoch=9100, loss=0.000679\n",
      "[INFO] epoch=9200, loss=0.000670\n",
      "[INFO] epoch=9300, loss=0.000662\n",
      "[INFO] epoch=9400, loss=0.000654\n",
      "[INFO] epoch=9500, loss=0.000645\n",
      "[INFO] epoch=9600, loss=0.000638\n",
      "[INFO] epoch=9700, loss=0.000630\n",
      "[INFO] epoch=9800, loss=0.000622\n",
      "[INFO] epoch=9900, loss=0.000615\n",
      "[INFO] epoch=10000, loss=0.000608\n"
     ]
    }
   ],
   "source": [
    "nn = NeuralNetwork([2, 2, 1], alpha=0.5)\n",
    "nn.fit(X, y, epochs=10000)"
   ]
  },
  {
   "cell_type": "code",
   "execution_count": 33,
   "metadata": {
    "scrolled": true
   },
   "outputs": [
    {
     "data": {
      "text/plain": [
       "Text(0, 0.5, 'Loss')"
      ]
     },
     "execution_count": 33,
     "metadata": {},
     "output_type": "execute_result"
    },
    {
     "data": {
      "image/png": "[encoded data removed]",
      "text/plain": [
       "<Figure size 432x288 with 1 Axes>"
      ]
     },
     "metadata": {
      "needs_background": "light"
     },
     "output_type": "display_data"
    }
   ],
   "source": [
    "plt.plot(list(nn.losses.keys()),list(nn.losses.values()),'r-')\n",
    "\n",
    "plt.xlabel(\"epochs\")\n",
    "plt.ylabel(\"Loss\")"
   ]
  },
  {
   "cell_type": "code",
   "execution_count": 34,
   "metadata": {},
   "outputs": [
    {
     "name": "stdout",
     "output_type": "stream",
     "text": [
      "[INFO] data=[0 0], ground-truth=0, pred=0.0148, step=0\n",
      "[INFO] data=[0 1], ground-truth=1, pred=0.9843, step=1\n",
      "[INFO] data=[1 0], ground-truth=1, pred=0.9792, step=1\n",
      "[INFO] data=[1 1], ground-truth=0, pred=0.0178, step=0\n"
     ]
    }
   ],
   "source": [
    "for (x, target) in zip(X, y):\n",
    "    pred = nn.predict(x)[0][0]\n",
    "    step = 1 if pred > 0.5 else 0\n",
    "    print(\"[INFO] data={}, ground-truth={}, pred={:.4f}, step={}\".format(x, target[0], pred, step))"
   ]
  },
  {
   "cell_type": "markdown",
   "metadata": {},
   "source": [
    "# MNIST Data set"
   ]
  },
  {
   "cell_type": "code",
   "execution_count": 51,
   "metadata": {},
   "outputs": [],
   "source": [
    "from sklearn.preprocessing import LabelBinarizer\n",
    "from sklearn.model_selection import train_test_split\n",
    "from sklearn.metrics import classification_report\n",
    "from sklearn import datasets"
   ]
  },
  {
   "cell_type": "code",
   "execution_count": 53,
   "metadata": {},
   "outputs": [
    {
     "name": "stdout",
     "output_type": "stream",
     "text": [
      "[INFO] loading MNIST (sample) dataset...\n",
      "[INFO] samples: 1797, dim: 64\n"
     ]
    }
   ],
   "source": [
    "print(\"[INFO] loading MNIST (sample) dataset...\")\n",
    "digits = datasets.load_digits()\n",
    "data = digits.data.astype(\"float\")\n",
    "data = (data - data.min()) / (data.max() - data.min())\n",
    "print(\"[INFO] samples: {}, dim: {}\".format(data.shape[0], data.shape[1]))"
   ]
  },
  {
   "cell_type": "code",
   "execution_count": 54,
   "metadata": {},
   "outputs": [],
   "source": [
    "(trainX, testX, trainY, testY) = train_test_split(data,digits.target, test_size=0.25)\n",
    "# convert the labels from integers to vectors\n",
    "trainY = LabelBinarizer().fit_transform(trainY)\n",
    "testY = LabelBinarizer().fit_transform(testY)"
   ]
  },
  {
   "cell_type": "code",
   "execution_count": 55,
   "metadata": {},
   "outputs": [
    {
     "name": "stdout",
     "output_type": "stream",
     "text": [
      "[INFO] training network...\n",
      "[INFO] NeuralNetWork : 64-32-16-10\n",
      "[INFO] epoch=1, loss=606.241349\n",
      "[INFO] epoch=100, loss=7.234899\n",
      "[INFO] epoch=200, loss=2.230643\n",
      "[INFO] epoch=300, loss=1.581630\n",
      "[INFO] epoch=400, loss=1.375118\n",
      "[INFO] epoch=500, loss=1.273823\n",
      "[INFO] epoch=600, loss=1.214076\n",
      "[INFO] epoch=700, loss=1.174706\n",
      "[INFO] epoch=800, loss=1.145427\n",
      "[INFO] epoch=900, loss=0.188427\n",
      "[INFO] epoch=1000, loss=0.136655\n"
     ]
    }
   ],
   "source": [
    "print(\"[INFO] training network...\")\n",
    "nn = NeuralNetwork([trainX.shape[1], 32, 16, 10])\n",
    "print(\"[INFO] {}\".format(nn))\n",
    "nn.fit(trainX, trainY, epochs=1000)"
   ]
  },
  {
   "cell_type": "code",
   "execution_count": 56,
   "metadata": {},
   "outputs": [
    {
     "name": "stdout",
     "output_type": "stream",
     "text": [
      "[INFO] evaluating network...\n",
      "              precision    recall  f1-score   support\n",
      "\n",
      "           0       1.00      1.00      1.00        46\n",
      "           1       0.94      1.00      0.97        33\n",
      "           2       0.96      1.00      0.98        53\n",
      "           3       1.00      0.96      0.98        54\n",
      "           4       0.97      1.00      0.99        38\n",
      "           5       0.98      0.96      0.97        55\n",
      "           6       1.00      0.98      0.99        47\n",
      "           7       1.00      1.00      1.00        46\n",
      "           8       1.00      0.95      0.98        42\n",
      "           9       0.95      0.97      0.96        36\n",
      "\n",
      "    accuracy                           0.98       450\n",
      "   macro avg       0.98      0.98      0.98       450\n",
      "weighted avg       0.98      0.98      0.98       450\n",
      "\n"
     ]
    }
   ],
   "source": [
    "print(\"[INFO] evaluating network...\")\n",
    "predictions = nn.predict(testX)\n",
    "predictions = predictions.argmax(axis=1)\n",
    "print(classification_report(testY.argmax(axis=1), predictions))"
   ]
  },
  {
   "cell_type": "code",
   "execution_count": 57,
   "metadata": {},
   "outputs": [
    {
     "data": {
      "text/plain": [
       "Text(0, 0.5, 'Loss')"
      ]
     },
     "execution_count": 57,
     "metadata": {},
     "output_type": "execute_result"
    },
    {
     "data": {
      "image/png": "[encoded data removed]",
      "text/plain": [
       "<Figure size 432x288 with 1 Axes>"
      ]
     },
     "metadata": {
      "needs_background": "light"
     },
     "output_type": "display_data"
    }
   ],
   "source": [
    "plt.plot(list(nn.losses.keys()),list(nn.losses.values()),'r-')\n",
    "plt.xlabel(\"epochs\")\n",
    "plt.ylabel(\"Loss\")"
   ]
  },
  {
   "cell_type": "code",
   "execution_count": null,
   "metadata": {},
   "outputs": [],
   "source": []
  }
 ],
 "metadata": {
  "colab": {
   "authorship_tag": "ABX9TyP35Z5x+f0DufgeqQvt2ZRO",
   "collapsed_sections": [],
   "include_colab_link": true,
   "name": "backpropagation.ipynb",
   "provenance": []
  },
  "kernelspec": {
   "display_name": "Python 3",
   "language": "python",
   "name": "python3"
  },
  "language_info": {
   "codemirror_mode": {
    "name": "ipython",
    "version": 3
   },
   "file_extension": ".py",
   "mimetype": "text/x-python",
   "name": "python",
   "nbconvert_exporter": "python",
   "pygments_lexer": "ipython3",
   "version": "3.8.3"
  }
 },
 "nbformat": 4,
 "nbformat_minor": 1
}
