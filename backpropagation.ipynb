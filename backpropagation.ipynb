{
  "nbformat": 4,
  "nbformat_minor": 0,
  "metadata": {
    "colab": {
      "name": "backpropagation.ipynb",
      "provenance": [],
      "collapsed_sections": [],
      "authorship_tag": "ABX9TyN2wvKFLxj9ei5yfD+cCBmf",
      "include_colab_link": true
    },
    "kernelspec": {
      "name": "python3",
      "display_name": "Python 3"
    },
    "language_info": {
      "name": "python"
    }
  },
  "cells": [
    {
      "cell_type": "markdown",
      "metadata": {
        "id": "view-in-github",
        "colab_type": "text"
      },
      "source": [
        "<a href=\"https://colab.research.google.com/github/sathishrouthu/DEEP-LEARNING/blob/main/backpropagation.ipynb\" target=\"_parent\"><img src=\"https://colab.research.google.com/assets/colab-badge.svg\" alt=\"Open In Colab\"/></a>"
      ]
    },
    {
      "cell_type": "code",
      "source": [
        "import numpy as np\n",
        "import pandas as pd\n"
      ],
      "metadata": {
        "id": "h3ZQiMPwLKgZ"
      },
      "execution_count": 2,
      "outputs": []
    },
    {
      "cell_type": "code",
      "execution_count": 5,
      "metadata": {
        "id": "NU0qFYMbKih5"
      },
      "outputs": [],
      "source": [
        "df = pd.DataFrame([[0,0,0],[0,1,1],[1,0,1],[1,1,0]],columns=['x0','x1','y'])"
      ]
    },
    {
      "cell_type": "code",
      "source": [
        "df"
      ],
      "metadata": {
        "colab": {
          "base_uri": "https://localhost:8080/",
          "height": 175
        },
        "id": "-r9Wj2-bLF3h",
        "outputId": "08216a45-c6ec-4364-cd86-139f66630a57"
      },
      "execution_count": 7,
      "outputs": [
        {
          "output_type": "execute_result",
          "data": {
            "text/plain": [
              "   x0  x1  y\n",
              "0   0   0  0\n",
              "1   0   1  1\n",
              "2   1   0  1\n",
              "3   1   1  0"
            ],
            "text/html": [
              "\n",
              "  <div id=\"df-2fd76900-68f6-46ea-ab3f-8c98e21fb4aa\">\n",
              "    <div class=\"colab-df-container\">\n",
              "      <div>\n",
              "<style scoped>\n",
              "    .dataframe tbody tr th:only-of-type {\n",
              "        vertical-align: middle;\n",
              "    }\n",
              "\n",
              "    .dataframe tbody tr th {\n",
              "        vertical-align: top;\n",
              "    }\n",
              "\n",
              "    .dataframe thead th {\n",
              "        text-align: right;\n",
              "    }\n",
              "</style>\n",
              "<table border=\"1\" class=\"dataframe\">\n",
              "  <thead>\n",
              "    <tr style=\"text-align: right;\">\n",
              "      <th></th>\n",
              "      <th>x0</th>\n",
              "      <th>x1</th>\n",
              "      <th>y</th>\n",
              "    </tr>\n",
              "  </thead>\n",
              "  <tbody>\n",
              "    <tr>\n",
              "      <th>0</th>\n",
              "      <td>0</td>\n",
              "      <td>0</td>\n",
              "      <td>0</td>\n",
              "    </tr>\n",
              "    <tr>\n",
              "      <th>1</th>\n",
              "      <td>0</td>\n",
              "      <td>1</td>\n",
              "      <td>1</td>\n",
              "    </tr>\n",
              "    <tr>\n",
              "      <th>2</th>\n",
              "      <td>1</td>\n",
              "      <td>0</td>\n",
              "      <td>1</td>\n",
              "    </tr>\n",
              "    <tr>\n",
              "      <th>3</th>\n",
              "      <td>1</td>\n",
              "      <td>1</td>\n",
              "      <td>0</td>\n",
              "    </tr>\n",
              "  </tbody>\n",
              "</table>\n",
              "</div>\n",
              "      <button class=\"colab-df-convert\" onclick=\"convertToInteractive('df-2fd76900-68f6-46ea-ab3f-8c98e21fb4aa')\"\n",
              "              title=\"Convert this dataframe to an interactive table.\"\n",
              "              style=\"display:none;\">\n",
              "        \n",
              "  <svg xmlns=\"http://www.w3.org/2000/svg\" height=\"24px\"viewBox=\"0 0 24 24\"\n",
              "       width=\"24px\">\n",
              "    <path d=\"M0 0h24v24H0V0z\" fill=\"none\"/>\n",
              "    <path d=\"M18.56 5.44l.94 2.06.94-2.06 2.06-.94-2.06-.94-.94-2.06-.94 2.06-2.06.94zm-11 1L8.5 8.5l.94-2.06 2.06-.94-2.06-.94L8.5 2.5l-.94 2.06-2.06.94zm10 10l.94 2.06.94-2.06 2.06-.94-2.06-.94-.94-2.06-.94 2.06-2.06.94z\"/><path d=\"M17.41 7.96l-1.37-1.37c-.4-.4-.92-.59-1.43-.59-.52 0-1.04.2-1.43.59L10.3 9.45l-7.72 7.72c-.78.78-.78 2.05 0 2.83L4 21.41c.39.39.9.59 1.41.59.51 0 1.02-.2 1.41-.59l7.78-7.78 2.81-2.81c.8-.78.8-2.07 0-2.86zM5.41 20L4 18.59l7.72-7.72 1.47 1.35L5.41 20z\"/>\n",
              "  </svg>\n",
              "      </button>\n",
              "      \n",
              "  <style>\n",
              "    .colab-df-container {\n",
              "      display:flex;\n",
              "      flex-wrap:wrap;\n",
              "      gap: 12px;\n",
              "    }\n",
              "\n",
              "    .colab-df-convert {\n",
              "      background-color: #E8F0FE;\n",
              "      border: none;\n",
              "      border-radius: 50%;\n",
              "      cursor: pointer;\n",
              "      display: none;\n",
              "      fill: #1967D2;\n",
              "      height: 32px;\n",
              "      padding: 0 0 0 0;\n",
              "      width: 32px;\n",
              "    }\n",
              "\n",
              "    .colab-df-convert:hover {\n",
              "      background-color: #E2EBFA;\n",
              "      box-shadow: 0px 1px 2px rgba(60, 64, 67, 0.3), 0px 1px 3px 1px rgba(60, 64, 67, 0.15);\n",
              "      fill: #174EA6;\n",
              "    }\n",
              "\n",
              "    [theme=dark] .colab-df-convert {\n",
              "      background-color: #3B4455;\n",
              "      fill: #D2E3FC;\n",
              "    }\n",
              "\n",
              "    [theme=dark] .colab-df-convert:hover {\n",
              "      background-color: #434B5C;\n",
              "      box-shadow: 0px 1px 3px 1px rgba(0, 0, 0, 0.15);\n",
              "      filter: drop-shadow(0px 1px 2px rgba(0, 0, 0, 0.3));\n",
              "      fill: #FFFFFF;\n",
              "    }\n",
              "  </style>\n",
              "\n",
              "      <script>\n",
              "        const buttonEl =\n",
              "          document.querySelector('#df-2fd76900-68f6-46ea-ab3f-8c98e21fb4aa button.colab-df-convert');\n",
              "        buttonEl.style.display =\n",
              "          google.colab.kernel.accessAllowed ? 'block' : 'none';\n",
              "\n",
              "        async function convertToInteractive(key) {\n",
              "          const element = document.querySelector('#df-2fd76900-68f6-46ea-ab3f-8c98e21fb4aa');\n",
              "          const dataTable =\n",
              "            await google.colab.kernel.invokeFunction('convertToInteractive',\n",
              "                                                     [key], {});\n",
              "          if (!dataTable) return;\n",
              "\n",
              "          const docLinkHtml = 'Like what you see? Visit the ' +\n",
              "            '<a target=\"_blank\" href=https://colab.research.google.com/notebooks/data_table.ipynb>data table notebook</a>'\n",
              "            + ' to learn more about interactive tables.';\n",
              "          element.innerHTML = '';\n",
              "          dataTable['output_type'] = 'display_data';\n",
              "          await google.colab.output.renderOutput(dataTable, element);\n",
              "          const docLink = document.createElement('div');\n",
              "          docLink.innerHTML = docLinkHtml;\n",
              "          element.appendChild(docLink);\n",
              "        }\n",
              "      </script>\n",
              "    </div>\n",
              "  </div>\n",
              "  "
            ]
          },
          "metadata": {},
          "execution_count": 7
        }
      ]
    },
    {
      "cell_type": "code",
      "source": [
        "for i in np.arange(0, len(layers) - 2):\n",
        "  "
      ],
      "metadata": {
        "id": "SAvefsVHPNqx"
      },
      "execution_count": null,
      "outputs": []
    },
    {
      "cell_type": "code",
      "source": [
        ""
      ],
      "metadata": {
        "id": "QymuqirfLioX"
      },
      "execution_count": 13,
      "outputs": []
    },
    {
      "cell_type": "code",
      "source": [
        "class NeuralNetwork:\n",
        "  def __init__(self,layers,alpha=0.1):\n",
        "    self.W=[]\n",
        "    self.layers = layers\n",
        "    self.alpha = alpha\n",
        "    for i in np.arange(0,len(layers)-2):\n",
        "      w = np.random.randn(layers[i]+1,layers[i+1]+1)\n",
        "      self.W.append(w/np.sqrt(layers[i]))\n",
        "    w = np.random.randn(layers[-2]+1,layers[-1])\n",
        "    self.W.append(w/np.sqrt(layers[-2]))\n",
        "  def __repr__(self):\n",
        "    return \"NeuralNetWork : \"+\"-\".join([str(i) for i in self.layers])\n",
        "\n",
        "  def sigmoid(self,x):\n",
        "    return 1.0/(1+np.exp(-x))\n",
        "\n",
        "  def sigmoid_deriv(self,x):\n",
        "    return x*(1-x)\n",
        "\n",
        "  def fit(self,X,y,epochs=1000,displayUpdate=100):\n",
        "    X = np.c_[X,np.ones((X.shape[0]))]\n",
        "    for epoch in np.arange(0,epochs):\n",
        "      for x,target in zip(X,y):\n",
        "        self.fit_partial(x,target)\n",
        "      if epoch==0 or (epoch+1)%displayUpdate ==0:\n",
        "        loss = self.calculate_loss(X,y)\n",
        "        print(\"[INFO] epoch={}, loss={:.7f}\".format(epoch + 1, loss))\n",
        "\n",
        "  def fit_partial(self,x,y):\n",
        "    A = [np.atleast_2d(x)]\n",
        "    for layer in np.arange(0,len(self.W)):\n",
        "      net = A[layer].dot(self.W[layer])\n",
        "      out = self.sigmoid(net)\n",
        "      A.append(out)\n",
        "\n"
      ],
      "metadata": {
        "id": "aT0nOVsCRB2o"
      },
      "execution_count": 11,
      "outputs": []
    },
    {
      "cell_type": "code",
      "source": [
        "class NeuralNetwork:\n",
        "  def __init__(self,layers,alpha=0.1):\n",
        "    self.W=[]\n",
        "    self.layers = layers\n",
        "    self.alpha = alpha\n",
        "    for i in np.arange(0,len(layers)-2):\n",
        "      w = np.random.randn(layers[i]+1,layers[i+1]+1)\n",
        "      self.W.append(w/np.sqrt(layers[i]))\n",
        "    w = np.random.randn(layers[-2]+1,layers[-1])\n",
        "    self.W.append(w/np.sqrt(layers[-2]))\n",
        "  def __repr__(self):\n",
        "    return \"NeuralNetWork : \"+\"-\".join([str(i) for i in self.layers])\n",
        "\n",
        "  def sigmoid(self,x):\n",
        "    return 1.0/(1+np.exp(-x))\n",
        "\n",
        "  def sigmoid_deriv(self,x):\n",
        "    return x*(1-x)\n",
        "\n",
        "  def fit(self,X,y,epochs=1000,displayUpdate=100):\n",
        "    X = np.c_[X,np.ones((X.shape[0]))]\n",
        "    for epoch in np.arange(0,epochs):\n",
        "      for x,target in zip(X,y):\n",
        "        self.fit_partial(x,target)\n",
        "      if epoch==0 or (epoch+1)%displayUpdate ==0:\n",
        "        loss = self.calculate_loss(X,y)\n",
        "        print(\"[INFO] epoch={}, loss={:.7f}\".format(epoch + 1, loss))\n",
        "\n",
        "  def fit_partial(self,x,y):\n",
        "    A = [np.atleast_2d(x)]\n",
        "    for layer in np.arange(0,len(self.W)):\n",
        "      net = A[layer].dot(self.W[layer])\n",
        "      out = self.sigmoid(net)\n",
        "      A.append(out)\n",
        "    error = A[-1]-y\n",
        "    D =[error* self.sigmoid_deriv(A[-1])]\n"
      ],
      "metadata": {
        "id": "Y_beg1GrTAFd"
      },
      "execution_count": 12,
      "outputs": []
    },
    {
      "cell_type": "code",
      "source": [
        "df.iloc[0]"
      ],
      "metadata": {
        "colab": {
          "base_uri": "https://localhost:8080/"
        },
        "id": "7K4GZFD2Z8rD",
        "outputId": "6764f387-b06c-49b2-acd0-420260945938"
      },
      "execution_count": 19,
      "outputs": [
        {
          "output_type": "execute_result",
          "data": {
            "text/plain": [
              "x0    0\n",
              "x1    0\n",
              "y     0\n",
              "Name: 0, dtype: int64"
            ]
          },
          "metadata": {},
          "execution_count": 19
        }
      ]
    },
    {
      "cell_type": "code",
      "source": [
        "np.atleast_2d(df.iloc[1])"
      ],
      "metadata": {
        "colab": {
          "base_uri": "https://localhost:8080/"
        },
        "id": "HcvX7xwfTHCE",
        "outputId": "fd3d6f35-fe96-4114-a9ee-09a7453e5dd5"
      },
      "execution_count": 20,
      "outputs": [
        {
          "output_type": "execute_result",
          "data": {
            "text/plain": [
              "array([[0, 1, 1]])"
            ]
          },
          "metadata": {},
          "execution_count": 20
        }
      ]
    },
    {
      "cell_type": "code",
      "source": [
        ""
      ],
      "metadata": {
        "id": "UqQN8Zj3TIEt"
      },
      "execution_count": null,
      "outputs": []
    }
  ]
}